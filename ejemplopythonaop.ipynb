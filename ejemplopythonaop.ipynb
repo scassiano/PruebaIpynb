{
  "nbformat": 4,
  "nbformat_minor": 0,
  "metadata": {
    "colab": {
      "provenance": []
    },
    "kernelspec": {
      "name": "python3",
      "display_name": "Python 3"
    },
    "language_info": {
      "name": "python"
    }
  },
  "cells": [
    {
      "cell_type": "markdown",
      "source": [
        "#Control de Acceso en AOP"
      ],
      "metadata": {
        "id": "HucqP0Qewc2b"
      }
    },
    {
      "cell_type": "markdown",
      "source": [
        "##AOP en Python"
      ],
      "metadata": {
        "id": "_DmTm7o7w8Vw"
      }
    },
    {
      "cell_type": "markdown",
      "source": [
        "Python no necesita algo así como una \"extensión del lenguaje\" para poder trabajar de forma orientada a aspectos.\n",
        "En Python 3 hay una característica poco conocida del lenguaje que permite anotar los parámetros de entrada y el valor de retorno de una función o método. Una biblioteca orientada a aspectos podría hacer uso de esto para aplicar su magia en \"tiempo de carga\", y no en el momento de cada llamada a una función."
      ],
      "metadata": {
        "id": "RcWHV5Snxd_I"
      }
    },
    {
      "cell_type": "markdown",
      "source": [
        "##Decoradores"
      ],
      "metadata": {
        "id": "Vm9hQmkGwsmO"
      }
    },
    {
      "cell_type": "markdown",
      "source": [
        "Un decorador es un patrón de diseño en Python que permite al usuario añadir una nueva funcionalidad a un objeto existente sin modificar su estructura. Los decoradores se suelen llamar antes de la definición de una función que se quiere decorar. En este tutorial, mostraremos al lector cómo puede utilizar decoradores en sus funciones de Python.\n"
      ],
      "metadata": {
        "id": "PW4x73iMoY4-"
      }
    },
    {
      "cell_type": "markdown",
      "source": [
        "###Ejercicio\n",
        "Se crea un decorador para verificar que el usuario que utilice una funcion sea un usuario valido.\n",
        "\n"
      ],
      "metadata": {
        "id": "SnHG2PXByCp7"
      }
    },
    {
      "cell_type": "code",
      "execution_count": null,
      "metadata": {
        "id": "_CAQkk6ibGR6"
      },
      "outputs": [],
      "source": [
        "def verificarUsuario(funcion):\n",
        "    def wrapper(self, usuario, nombre):\n",
        "      '''Si el usuario es valido, se ejecuta la operacion\n",
        "      Si el usuario no es valido se emite un mensaje de error'''\n",
        "      #Verificar que el usuario que llamo esta funcion esta en la lista\n",
        "      #de personas que pueden hacer operaciones crud\n",
        "      #Condicional if con los usuarios\n",
        "      if usuario in (\"Santiago\",\"Brian\",\"Gustavo\"):\n",
        "        #Verificacion de que es un usuario valido\n",
        "        print(\"El usuario \"+ usuario + \" si tiene permitido hacer operaciones crud\")\n",
        "        funcion(self, usuario, nombre)\n",
        "      \n",
        "      else:\n",
        "        print(\"El usuario \"+ usuario + \" NO puede hacer esta operacion\")\n",
        "    return wrapper"
      ]
    },
    {
      "cell_type": "markdown",
      "source": [
        "##Clases"
      ],
      "metadata": {
        "id": "rmkGjR93wzeM"
      }
    },
    {
      "cell_type": "markdown",
      "source": [
        "Las clases proveen una forma de empaquetar datos y funcionalidad juntos. Al crear una nueva clase, se crea un nuevo tipo de objeto, permitiendo crear nuevas instancias de ese tipo. Cada instancia de clase puede tener atributos adjuntos para mantener su estado. Las instancias de clase también pueden tener métodos (definidos por su clase) para modificar su estado."
      ],
      "metadata": {
        "id": "7PHV1Uk8zH5E"
      }
    },
    {
      "cell_type": "markdown",
      "source": [
        "###Ejercicios\n",
        "Se crea una clase productosCRUD, la cual tiene metodos para que un usuario pueda realizar operaciones CRUD sobre un conjunto de productos.\n",
        "\n",
        "Crear una clase actividadesCRUD, la cual debe tener los metodos para que un usuario pueda realizar operaciones CRUD sobre un conjunto de actividades.\n",
        "\n"
      ],
      "metadata": {
        "id": "7AWq9VoUooDX"
      }
    },
    {
      "cell_type": "code",
      "source": [
        "class productosCRUD:\n",
        "\n",
        "  #En todos los metodos de la clase\n",
        "  #Se les aplica el decorador verificarUsuario\n",
        "  #Para verificar que el usuario que las ejecuta sea valido\n",
        "\n",
        "  @verificarUsuario\n",
        "  def createProd(self, usuario, nombreProducto):\n",
        "    print(\"Se ha creado el producto: \"+ nombreProducto)\n",
        "\n",
        "  @verificarUsuario\n",
        "  def readProd(self, usuario, nombreProducto):\n",
        "    print(\"Se ha consultado el producto: \"+ nombreProducto)\n",
        "\n",
        "  @verificarUsuario\n",
        "  def updateProd(self, usuario, nombreProducto):\n",
        "    print(\"Se ha actualizado el producto: \"+nombreProducto)\n",
        "\n",
        "  @verificarUsuario\n",
        "  def deleteProd(self, usuario, nombreProducto):\n",
        "    print(\"Se ha eliminado el producto: \"+nombreProducto)"
      ],
      "metadata": {
        "id": "DKnFkISw4fam"
      },
      "execution_count": null,
      "outputs": []
    },
    {
      "cell_type": "code",
      "source": [
        "class actividadesCRUD:\n",
        "\n",
        "  #En todos los metodos de la clase\n",
        "  #Se les aplica el decorador verificarUsuario\n",
        "  #Para verificar que el usuario que las ejecuta sea valido\n",
        "  \n",
        "  #Ingrese su codigo en cada una de las funciones\n",
        "   @verificarUsuario\n",
        "   def createAct(self, usuario, nombreActividad):\n",
        "    print(\"Se ha creado la actividad: \"+ nombreActividad)\n",
        "\n",
        "   @verificarUsuario\n",
        "   def readAct(self, usuario, nombreActividad):\n",
        "    print(\"Se ha consultado la actividad: \"+ nombreActividad)\n",
        "\n",
        "   @verificarUsuario\n",
        "   def updateAct(self, usuario, nombreActividad):\n",
        "    print(\"Se ha actualizado la actividad: \"+nombreActividad)\n",
        "\n",
        "   @verificarUsuario\n",
        "   def deleteAct(self, usuario, nombreActividad):\n",
        "    print(\"Se ha eliminado la actividad: \"+nombreActividad)"
      ],
      "metadata": {
        "id": "HLF8Zioro-Mp"
      },
      "execution_count": null,
      "outputs": []
    },
    {
      "cell_type": "markdown",
      "source": [
        "##Ejecución"
      ],
      "metadata": {
        "id": "0h3NQdrKw4DG"
      }
    },
    {
      "cell_type": "markdown",
      "source": [
        "Ejecucion del programa principal para evidenciar el funcionamiento del decorador para controlar el acceso a las operaciones CRUD de productos y actividades."
      ],
      "metadata": {
        "id": "OpzatYB_pdBZ"
      }
    },
    {
      "cell_type": "code",
      "source": [
        "#Se generan instancias de los objetos que permiten\n",
        "#Hacer operaciones crud sobre las actividades\n",
        "operarActividades = actividadesCRUD()"
      ],
      "metadata": {
        "id": "yv8Ujv_SpGzn"
      },
      "execution_count": null,
      "outputs": []
    },
    {
      "cell_type": "markdown",
      "source": [
        "###Ejercicio\n",
        "Crear una actividad con uno de los usuarios permitidos en la validación."
      ],
      "metadata": {
        "id": "FBLWAbqB1FFS"
      }
    },
    {
      "cell_type": "code",
      "source": [
        "#El usuario Santiago intenta crear una actividad\n",
        "operarActividades.createAct(\"Santiago\",\"Ir al museo\")"
      ],
      "metadata": {
        "colab": {
          "base_uri": "https://localhost:8080/"
        },
        "id": "0PVCOIR90R3F",
        "outputId": "fdba7350-142b-4b91-ddb1-ae071e9c9a10"
      },
      "execution_count": null,
      "outputs": [
        {
          "output_type": "stream",
          "name": "stdout",
          "text": [
            "El usuario Santiago si tiene permitido hacer operaciones crud\n",
            "Se ha creado la actividad: Ir al museo\n"
          ]
        }
      ]
    },
    {
      "cell_type": "markdown",
      "source": [
        "Crear una actividad con uno de los usuarios no permitidos en la validación."
      ],
      "metadata": {
        "id": "zeaL2vL31Vy-"
      }
    },
    {
      "cell_type": "code",
      "source": [
        "#El usuario David intenta crear una actividad Hola mundo\n",
        "#La operacion no se logra hacer ya que David no es un usuario\n",
        "#permitido para hacer esta operacion\n",
        "operarActividades.createAct(\"David\",\"Hola mundo\")"
      ],
      "metadata": {
        "colab": {
          "base_uri": "https://localhost:8080/"
        },
        "id": "Tc4UVKMl0o_a",
        "outputId": "a7275d75-cbbb-4daa-a1cf-f31df68f6dfe"
      },
      "execution_count": null,
      "outputs": [
        {
          "output_type": "stream",
          "name": "stdout",
          "text": [
            "El usuario David NO puede hacer esta operacion\n"
          ]
        }
      ]
    }
  ]
}